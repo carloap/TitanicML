{
 "cells": [
  {
   "cell_type": "code",
   "execution_count": null,
   "metadata": {},
   "outputs": [],
   "source": [
    "# carregar bibliotecas\n",
    "import pandas as pd"
   ]
  },
  {
   "cell_type": "code",
   "execution_count": null,
   "metadata": {},
   "outputs": [],
   "source": [
    "df_train = pd.read_csv(\"./train.csv\")\n",
    "df_test = pd.read_csv(\"./test.csv\")"
   ]
  },
  {
   "cell_type": "code",
   "execution_count": null,
   "metadata": {},
   "outputs": [],
   "source": [
    "df_train.dtypes"
   ]
  },
  {
   "cell_type": "code",
   "execution_count": null,
   "metadata": {},
   "outputs": [],
   "source": [
    "# imprimir base de treino\n",
    "df_train"
   ]
  },
  {
   "cell_type": "code",
   "execution_count": null,
   "metadata": {},
   "outputs": [],
   "source": [
    "df_test.dtypes"
   ]
  },
  {
   "cell_type": "code",
   "execution_count": null,
   "metadata": {},
   "outputs": [],
   "source": [
    "# imprimir base de teste\n",
    "df_test"
   ]
  },
  {
   "cell_type": "code",
   "execution_count": null,
   "metadata": {},
   "outputs": [],
   "source": []
  },
  {
   "cell_type": "code",
   "execution_count": null,
   "metadata": {},
   "outputs": [],
   "source": [
    "# Preencher as lacunas com variáveis Dummy\n",
    "df_train['isTrain'] = 1\n",
    "df_test['isTrain'] = 0\n",
    "df_test['Survived'] = 2\n",
    "\n",
    "# Extrair saudação para base de Treino\n",
    "\n",
    "#df_train['Greeting'] = [df_train.at[index, 'Name'][df_train.at[index, 'Name'].find(',')+2:df_train.at[index, 'Name'].find('.', df_train.at[index, 'Name'].find(',')+2)] for index, row in df_train.iterrows()]\n",
    "\n",
    "for index, row in df_train.iterrows():\n",
    "    str_name = df_train.at[index,'Name']\n",
    "    df_train.at[index,'Greeting'] = str_name[str_name.find(',')+2:str_name.find('.')]\n",
    "\n",
    "\n",
    "# Extrair saudação para base de Teste\n",
    "df_test['Greeting'] = [df_test.at[index, 'Name'][df_test.at[index, 'Name'].find(',')+2:df_test.at[index, 'Name'].find('.', df_test.at[index, 'Name'].find(',')+2)] for index, row in df_test.iterrows()]\n",
    "\n",
    "#for index, row in df_test.iterrows():\n",
    "#    str_name = df_test.at[index,'Name']\n",
    "#    df_test.at[index,'Greeting'] = str_name[str_name.find(',')+2:str_name.find('.')]\n",
    "\n"
   ]
  },
  {
   "cell_type": "code",
   "execution_count": null,
   "metadata": {},
   "outputs": [],
   "source": [
    "df_train"
   ]
  },
  {
   "cell_type": "code",
   "execution_count": null,
   "metadata": {},
   "outputs": [],
   "source": [
    "# Juntar as duas bases (treino e teste) em uma completa\n",
    "df_full = pd.concat([df_train, df_test], axis=0, join='outer', join_axes=None, ignore_index=False,\n",
    "          keys=None, levels=None, names=None, verify_integrity=False,\n",
    "          copy=True)\n",
    "\n",
    "# Ordenar indice\n",
    "df_full = df_full.reindex(columns=['PassengerId', 'Pclass', 'Name', 'Sex', 'Age', 'SibSp', 'Parch', 'Ticket', 'Fare', 'Cabin', 'Embarked', 'isTrain', 'Survived'])"
   ]
  },
  {
   "cell_type": "code",
   "execution_count": null,
   "metadata": {},
   "outputs": [],
   "source": []
  },
  {
   "cell_type": "code",
   "execution_count": null,
   "metadata": {},
   "outputs": [],
   "source": [
    "df_full"
   ]
  },
  {
   "cell_type": "code",
   "execution_count": null,
   "metadata": {},
   "outputs": [],
   "source": []
  },
  {
   "cell_type": "code",
   "execution_count": null,
   "metadata": {},
   "outputs": [],
   "source": []
  }
 ],
 "metadata": {
  "kernelspec": {
   "display_name": "Python 3",
   "language": "python",
   "name": "python3"
  },
  "language_info": {
   "codemirror_mode": {
    "name": "ipython",
    "version": 3
   },
   "file_extension": ".py",
   "mimetype": "text/x-python",
   "name": "python",
   "nbconvert_exporter": "python",
   "pygments_lexer": "ipython3",
   "version": "3.6.4"
  }
 },
 "nbformat": 4,
 "nbformat_minor": 2
}
